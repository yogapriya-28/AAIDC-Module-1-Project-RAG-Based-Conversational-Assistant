{
  "nbformat": 4,
  "nbformat_minor": 0,
  "metadata": {
    "colab": {
      "provenance": [],
      "authorship_tag": "ABX9TyMX87dnNZTVGT7fNY3XBdK2",
      "include_colab_link": true
    },
    "kernelspec": {
      "name": "python3",
      "display_name": "Python 3"
    },
    "language_info": {
      "name": "python"
    }
  },
  "cells": [
    {
      "cell_type": "markdown",
      "metadata": {
        "id": "view-in-github",
        "colab_type": "text"
      },
      "source": [
        "<a href=\"https://colab.research.google.com/github/yogapriya-28/AAIDC-Module-1-Project-RAG-Based-Conversational-Assistant/blob/main/RAG.ipynb\" target=\"_parent\"><img src=\"https://colab.research.google.com/assets/colab-badge.svg\" alt=\"Open In Colab\"/></a>"
      ]
    },
    {
      "cell_type": "code",
      "source": [
        "!pip install -q langchain langchain-openai langchain-community faiss-cpu tiktoken python-dotenv\n"
      ],
      "metadata": {
        "id": "qxd_0RFtaQlk"
      },
      "execution_count": 18,
      "outputs": []
    },
    {
      "cell_type": "code",
      "source": [
        "import os, json\n",
        "from google.colab import files\n",
        "from langchain.text_splitter import RecursiveCharacterTextSplitter\n",
        "from langchain_community.vectorstores import FAISS\n",
        "from langchain_openai import OpenAIEmbeddings, ChatOpenAI\n",
        "from langchain.chains import RetrievalQA\n",
        "from langchain.prompts import PromptTemplate\n"
      ],
      "metadata": {
        "id": "Gf0Jn2baB615"
      },
      "execution_count": 56,
      "outputs": []
    },
    {
      "cell_type": "code",
      "source": [
        "from google.colab import userdata\n",
        "openai.api_key = userdata.get(\"OPENAI_API_KEY\")\n"
      ],
      "metadata": {
        "id": "fb7znUCDcWA7"
      },
      "execution_count": 57,
      "outputs": []
    },
    {
      "cell_type": "code",
      "source": [
        "uploaded = files.upload()\n",
        "file_name = list(uploaded.keys())[0]\n",
        "\n",
        "with open(file_name, \"r\", encoding=\"utf-8\") as f:\n",
        "    publications = json.load(f)\n",
        "\n",
        "print(f\"Loaded {len(publications)} publications.\")\n",
        "print(\"Example title:\", publications[0]['title'])\n"
      ],
      "metadata": {
        "colab": {
          "base_uri": "https://localhost:8080/",
          "height": 108
        },
        "id": "jOH3iBLzCnEU",
        "outputId": "9518e182-6bc7-4cbe-e53e-08bb95167bac"
      },
      "execution_count": 58,
      "outputs": [
        {
          "output_type": "display_data",
          "data": {
            "text/plain": [
              "<IPython.core.display.HTML object>"
            ],
            "text/html": [
              "\n",
              "     <input type=\"file\" id=\"files-aa2e655a-f1bc-4828-b9e6-6f22207d25d3\" name=\"files[]\" multiple disabled\n",
              "        style=\"border:none\" />\n",
              "     <output id=\"result-aa2e655a-f1bc-4828-b9e6-6f22207d25d3\">\n",
              "      Upload widget is only available when the cell has been executed in the\n",
              "      current browser session. Please rerun this cell to enable.\n",
              "      </output>\n",
              "      <script>// Copyright 2017 Google LLC\n",
              "//\n",
              "// Licensed under the Apache License, Version 2.0 (the \"License\");\n",
              "// you may not use this file except in compliance with the License.\n",
              "// You may obtain a copy of the License at\n",
              "//\n",
              "//      http://www.apache.org/licenses/LICENSE-2.0\n",
              "//\n",
              "// Unless required by applicable law or agreed to in writing, software\n",
              "// distributed under the License is distributed on an \"AS IS\" BASIS,\n",
              "// WITHOUT WARRANTIES OR CONDITIONS OF ANY KIND, either express or implied.\n",
              "// See the License for the specific language governing permissions and\n",
              "// limitations under the License.\n",
              "\n",
              "/**\n",
              " * @fileoverview Helpers for google.colab Python module.\n",
              " */\n",
              "(function(scope) {\n",
              "function span(text, styleAttributes = {}) {\n",
              "  const element = document.createElement('span');\n",
              "  element.textContent = text;\n",
              "  for (const key of Object.keys(styleAttributes)) {\n",
              "    element.style[key] = styleAttributes[key];\n",
              "  }\n",
              "  return element;\n",
              "}\n",
              "\n",
              "// Max number of bytes which will be uploaded at a time.\n",
              "const MAX_PAYLOAD_SIZE = 100 * 1024;\n",
              "\n",
              "function _uploadFiles(inputId, outputId) {\n",
              "  const steps = uploadFilesStep(inputId, outputId);\n",
              "  const outputElement = document.getElementById(outputId);\n",
              "  // Cache steps on the outputElement to make it available for the next call\n",
              "  // to uploadFilesContinue from Python.\n",
              "  outputElement.steps = steps;\n",
              "\n",
              "  return _uploadFilesContinue(outputId);\n",
              "}\n",
              "\n",
              "// This is roughly an async generator (not supported in the browser yet),\n",
              "// where there are multiple asynchronous steps and the Python side is going\n",
              "// to poll for completion of each step.\n",
              "// This uses a Promise to block the python side on completion of each step,\n",
              "// then passes the result of the previous step as the input to the next step.\n",
              "function _uploadFilesContinue(outputId) {\n",
              "  const outputElement = document.getElementById(outputId);\n",
              "  const steps = outputElement.steps;\n",
              "\n",
              "  const next = steps.next(outputElement.lastPromiseValue);\n",
              "  return Promise.resolve(next.value.promise).then((value) => {\n",
              "    // Cache the last promise value to make it available to the next\n",
              "    // step of the generator.\n",
              "    outputElement.lastPromiseValue = value;\n",
              "    return next.value.response;\n",
              "  });\n",
              "}\n",
              "\n",
              "/**\n",
              " * Generator function which is called between each async step of the upload\n",
              " * process.\n",
              " * @param {string} inputId Element ID of the input file picker element.\n",
              " * @param {string} outputId Element ID of the output display.\n",
              " * @return {!Iterable<!Object>} Iterable of next steps.\n",
              " */\n",
              "function* uploadFilesStep(inputId, outputId) {\n",
              "  const inputElement = document.getElementById(inputId);\n",
              "  inputElement.disabled = false;\n",
              "\n",
              "  const outputElement = document.getElementById(outputId);\n",
              "  outputElement.innerHTML = '';\n",
              "\n",
              "  const pickedPromise = new Promise((resolve) => {\n",
              "    inputElement.addEventListener('change', (e) => {\n",
              "      resolve(e.target.files);\n",
              "    });\n",
              "  });\n",
              "\n",
              "  const cancel = document.createElement('button');\n",
              "  inputElement.parentElement.appendChild(cancel);\n",
              "  cancel.textContent = 'Cancel upload';\n",
              "  const cancelPromise = new Promise((resolve) => {\n",
              "    cancel.onclick = () => {\n",
              "      resolve(null);\n",
              "    };\n",
              "  });\n",
              "\n",
              "  // Wait for the user to pick the files.\n",
              "  const files = yield {\n",
              "    promise: Promise.race([pickedPromise, cancelPromise]),\n",
              "    response: {\n",
              "      action: 'starting',\n",
              "    }\n",
              "  };\n",
              "\n",
              "  cancel.remove();\n",
              "\n",
              "  // Disable the input element since further picks are not allowed.\n",
              "  inputElement.disabled = true;\n",
              "\n",
              "  if (!files) {\n",
              "    return {\n",
              "      response: {\n",
              "        action: 'complete',\n",
              "      }\n",
              "    };\n",
              "  }\n",
              "\n",
              "  for (const file of files) {\n",
              "    const li = document.createElement('li');\n",
              "    li.append(span(file.name, {fontWeight: 'bold'}));\n",
              "    li.append(span(\n",
              "        `(${file.type || 'n/a'}) - ${file.size} bytes, ` +\n",
              "        `last modified: ${\n",
              "            file.lastModifiedDate ? file.lastModifiedDate.toLocaleDateString() :\n",
              "                                    'n/a'} - `));\n",
              "    const percent = span('0% done');\n",
              "    li.appendChild(percent);\n",
              "\n",
              "    outputElement.appendChild(li);\n",
              "\n",
              "    const fileDataPromise = new Promise((resolve) => {\n",
              "      const reader = new FileReader();\n",
              "      reader.onload = (e) => {\n",
              "        resolve(e.target.result);\n",
              "      };\n",
              "      reader.readAsArrayBuffer(file);\n",
              "    });\n",
              "    // Wait for the data to be ready.\n",
              "    let fileData = yield {\n",
              "      promise: fileDataPromise,\n",
              "      response: {\n",
              "        action: 'continue',\n",
              "      }\n",
              "    };\n",
              "\n",
              "    // Use a chunked sending to avoid message size limits. See b/62115660.\n",
              "    let position = 0;\n",
              "    do {\n",
              "      const length = Math.min(fileData.byteLength - position, MAX_PAYLOAD_SIZE);\n",
              "      const chunk = new Uint8Array(fileData, position, length);\n",
              "      position += length;\n",
              "\n",
              "      const base64 = btoa(String.fromCharCode.apply(null, chunk));\n",
              "      yield {\n",
              "        response: {\n",
              "          action: 'append',\n",
              "          file: file.name,\n",
              "          data: base64,\n",
              "        },\n",
              "      };\n",
              "\n",
              "      let percentDone = fileData.byteLength === 0 ?\n",
              "          100 :\n",
              "          Math.round((position / fileData.byteLength) * 100);\n",
              "      percent.textContent = `${percentDone}% done`;\n",
              "\n",
              "    } while (position < fileData.byteLength);\n",
              "  }\n",
              "\n",
              "  // All done.\n",
              "  yield {\n",
              "    response: {\n",
              "      action: 'complete',\n",
              "    }\n",
              "  };\n",
              "}\n",
              "\n",
              "scope.google = scope.google || {};\n",
              "scope.google.colab = scope.google.colab || {};\n",
              "scope.google.colab._files = {\n",
              "  _uploadFiles,\n",
              "  _uploadFilesContinue,\n",
              "};\n",
              "})(self);\n",
              "</script> "
            ]
          },
          "metadata": {}
        },
        {
          "output_type": "stream",
          "name": "stdout",
          "text": [
            "Saving project_1_publications.json to project_1_publications.json\n",
            "Loaded 35 publications.\n",
            "Example title: How to Add Memory to RAG Applications and AI Agents\n"
          ]
        }
      ]
    },
    {
      "cell_type": "code",
      "source": [
        "# Combine title + description for each publication\n",
        "docs = []\n",
        "for pub in publications:\n",
        "    content = f\"Title: {pub['title']}\\n\\nContent: {pub['publication_description']}\"\n",
        "    docs.append(content)\n",
        "\n",
        "# Split long text into chunks\n",
        "splitter = RecursiveCharacterTextSplitter(chunk_size=1000, chunk_overlap=150)\n",
        "texts = []\n",
        "for doc in docs:\n",
        "    texts.extend(splitter.split_text(doc))\n",
        "\n",
        "print(f\"Total text chunks created: {len(texts)}\")\n"
      ],
      "metadata": {
        "colab": {
          "base_uri": "https://localhost:8080/"
        },
        "id": "aluTAkSKC2Re",
        "outputId": "63b93586-5963-4fe1-d38a-d8bf74ee850d"
      },
      "execution_count": 59,
      "outputs": [
        {
          "output_type": "stream",
          "name": "stdout",
          "text": [
            "Total text chunks created: 1182\n"
          ]
        }
      ]
    },
    {
      "cell_type": "code",
      "source": [
        "# Use OpenAI’s new embedding model (best 2025 choice)\n",
        "embeddings = OpenAIEmbeddings(model=\"text-embedding-3-small\")\n",
        "\n",
        "# Build FAISS index\n",
        "faiss_store = FAISS.from_texts(texts, embeddings)\n",
        "\n",
        "# Retriever setup\n",
        "retriever = faiss_store.as_retriever(search_kwargs={\"k\": 3})\n",
        "print(\" FAISS vector store ready!\")\n"
      ],
      "metadata": {
        "colab": {
          "base_uri": "https://localhost:8080/"
        },
        "id": "TDAR-kwAEaYZ",
        "outputId": "21de6b73-b707-47d1-cc65-6b6260b32f45"
      },
      "execution_count": 60,
      "outputs": [
        {
          "output_type": "stream",
          "name": "stdout",
          "text": [
            " FAISS vector store ready!\n"
          ]
        }
      ]
    },
    {
      "cell_type": "code",
      "source": [
        "prompt_template = \"\"\"\n",
        "You are an AI assistant trained on Ready Tensor publications.\n",
        "Use the following context to answer the user's question clearly and accurately.\n",
        "\n",
        "Context:\n",
        "{context}\n",
        "\n",
        "Question:\n",
        "{question}\n",
        "\n",
        "Answer:\n",
        "\"\"\"\n",
        "\n",
        "prompt = PromptTemplate(\n",
        "    template=prompt_template,\n",
        "    input_variables=[\"context\", \"question\"]\n",
        ")\n"
      ],
      "metadata": {
        "id": "5zzDlF4UEsIz"
      },
      "execution_count": 61,
      "outputs": []
    },
    {
      "cell_type": "code",
      "source": [
        "  llm = ChatOpenAI(model=\"gpt-3.5-turbo\", temperature=0.2)\n",
        "\n",
        "  qa_chain = RetrievalQA.from_chain_type(\n",
        "      llm=llm,\n",
        "      retriever=retriever,\n",
        "      return_source_documents=True,\n",
        "      chain_type_kwargs={\"prompt\": prompt}\n",
        "  )\n",
        "\n",
        "  print(\" RAG Assistant is ready to answer your questions!\")\n"
      ],
      "metadata": {
        "colab": {
          "base_uri": "https://localhost:8080/"
        },
        "id": "vgcBkrgjGfoD",
        "outputId": "051412c0-998e-4311-b49c-ded313ccd18c"
      },
      "execution_count": 62,
      "outputs": [
        {
          "output_type": "stream",
          "name": "stdout",
          "text": [
            " RAG Assistant is ready to answer your questions!\n"
          ]
        }
      ]
    },
    {
      "cell_type": "code",
      "source": [
        "query = \"How can I add memory to a RAG application?\"\n",
        "result = qa_chain.invoke({\"query\": query})\n",
        "\n",
        "print(\" Question:\", query)\n",
        "print(\"\\n Answer:\\n\", result[\"result\"])\n",
        "\n",
        "print(\"\\n Sources:\")\n",
        "for doc in result[\"source_documents\"]:\n",
        "    print(\"-\", doc.metadata.get(\"source\", \"Ready Tensor dataset\"))\n"
      ],
      "metadata": {
        "colab": {
          "base_uri": "https://localhost:8080/"
        },
        "id": "blo-Ad5pGiw0",
        "outputId": "631be0c8-2a70-4067-ae19-26c831c82e33"
      },
      "execution_count": 63,
      "outputs": [
        {
          "output_type": "stream",
          "name": "stdout",
          "text": [
            " Question: How can I add memory to a RAG application?\n",
            "\n",
            " Answer:\n",
            " To add memory to a RAG application or AI agent, you need to give the application a brain by including the following components:\n",
            "\n",
            "1. A database for storing user's questions, AI's answers, chat IDs, user's email, etc.\n",
            "2. A function that retrieves users' previous questions whenever a new question is asked.\n",
            "\n",
            "By implementing these components, the RAG application will be able to make inferences from previous questions and provide new answers based on both new and previous interactions. This will enhance the application's ability to remember and learn from past interactions, improving its overall performance and user experience.\n",
            "\n",
            " Sources:\n",
            "- Ready Tensor dataset\n",
            "- Ready Tensor dataset\n",
            "- Ready Tensor dataset\n"
          ]
        }
      ]
    },
    {
      "cell_type": "code",
      "source": [
        "qa_chain.invoke({\"query\": \"What are best practices for open-source AI repositories?\"})\n"
      ],
      "metadata": {
        "colab": {
          "base_uri": "https://localhost:8080/"
        },
        "id": "rCoofydhGovo",
        "outputId": "0da43f45-7b10-4f5c-e79c-64178fd75f43"
      },
      "execution_count": 64,
      "outputs": [
        {
          "output_type": "execute_result",
          "data": {
            "text/plain": [
              "{'query': 'What are best practices for open-source AI repositories?',\n",
              " 'result': 'Some best practices for open-source AI repositories include:\\n1. Providing thorough documentation that explains what the project does, why it matters, how to use it, and whether it can be trusted.\\n2. Structuring the repository in a clear and organized manner to make it easy for others to navigate and understand.\\n3. Managing environment and dependencies effectively to ensure reproducibility.\\n4. Considering licensing and legal considerations to protect intellectual property and ensure proper usage.\\n5. Maintaining high code quality standards to make the project more accessible and usable for the community. \\n\\nBy following these best practices, AI practitioners can create repositories that are valuable resources for the wider community and contribute to the advancement of open science principles in the AI landscape.',\n",
              " 'source_documents': [Document(id='ac83e7e8-e0ec-4146-87bd-b96ef183aa80', metadata={}, page_content='This article presents a comprehensive framework for creating and structuring AI/ML project repositories that maximize accessibility, reproducibility, and community benefit. We introduce a three-tiered evaluation system, namely, Essential, Professional, and Elite, to help practitioners assess and improve their code repositories at appropriate levels of rigor. The framework encompasses five critical categories: Documentation, Repository Structure, Environment and Dependencies, License and Legal considerations, and Code Quality. Drawing from industry standards and best practices, we provide concrete criteria, common pitfalls, and practical examples that enable AI practitioners, researchers, and students to create repositories that serve as valuable resources for both their creators and the wider community. By implementing these practices, contributors can enhance their professional portfolios while simultaneously advancing open science principles in the AI landscape.'),\n",
              "  Document(id='9a4fcb92-98ed-4e10-8485-8985e552ae81', metadata={}, page_content='Title: The Open Source Repository Guide: Best Practices for Sharing Your AI/ML and Data Science Projects\\n\\nContent: ![repo-hero-cropped.jpg](repo-hero-cropped.jpg)\\n\\n<p align=\"center\"><em>Image credit: https://www.pexels.com</em></p>\\n--DIVIDER--\\n# Abstract'),\n",
              "  Document(id='a7dd3240-5465-44cd-810c-823fee0e7cb9', metadata={}, page_content=\"**Community Impact Through Accessible Knowledge**\\nThe collective advancement of AI/ML depends on shared implementations and reproducible research. When you create quality repositories, you help others avoid reinventing solutions to common problems, allowing the field to progress more rapidly. Consider the frustration you have experienced trying to implement papers with missing details or the hours spent making someone else's code work. Your well-organized repository prevents others from facing these same challenges. Repositories that clearly answer what the project does, why it matters, whether it can be trusted, and how to use it become valuable community resources rather than one-time demonstrations. Every properly structured repository contributes to building a more collaborative, efficient AI ecosystem.\")]}"
            ]
          },
          "metadata": {},
          "execution_count": 64
        }
      ]
    },
    {
      "cell_type": "code",
      "source": [
        "# -------------------------------------------\n",
        "#  Chat Widget\n",
        "# -------------------------------------------\n",
        "import sys\n",
        "\n",
        "# ✅ Check if running inside Google Colab\n",
        "if \"google.colab\" not in sys.modules:\n",
        "    print(\"⚠️ The chat widget interface only works in Google Colab.\")\n",
        "else:\n",
        "    from IPython.display import display, HTML\n",
        "    import ipywidgets as widgets\n",
        "\n",
        "    # --- Session memory for chat ---\n",
        "    chat_history = []\n",
        "\n",
        "    # --- Chat display area ---\n",
        "    chat_output = widgets.Output(\n",
        "        layout={\n",
        "            'border': '1px solid #444',\n",
        "            'height': '400px',\n",
        "            'overflow_y': 'auto',\n",
        "            'padding': '10px',\n",
        "            'background': '#0f0f1f'\n",
        "        }\n",
        "    )\n",
        "\n",
        "    chat_input = widgets.Text(\n",
        "        placeholder='Type your question here...',\n",
        "        description='You:',\n",
        "        layout=widgets.Layout(width='80%')\n",
        "    )\n",
        "\n",
        "    send_button = widgets.Button(description=\"Send\", button_style='success')\n",
        "    clear_button = widgets.Button(description=\"Clear Chat\", button_style='danger')\n",
        "\n",
        "    display(chat_output, chat_input, widgets.HBox([send_button, clear_button]))\n",
        "\n",
        "    # --- Update chat display ---\n",
        "    def update_chat_display():\n",
        "        with chat_output:\n",
        "            chat_output.clear_output()\n",
        "            for user_msg, bot_msg in chat_history:\n",
        "                display(HTML(f\"\"\"\n",
        "                <div style=\"background-color:#D0E6FF; padding:8px; border-radius:10px; margin:5px 0;\">\n",
        "                    <b>You:</b> {user_msg}\n",
        "                </div>\n",
        "                <div style=\"background-color:#E6FFE6; padding:8px; border-radius:10px; margin:5px 0;\">\n",
        "                    <b>Assistant:</b> {bot_msg}\n",
        "                </div>\n",
        "                \"\"\"))\n",
        "\n",
        "    # --- Handle Send button ---\n",
        "    def send_message(b):\n",
        "        query = chat_input.value.strip()\n",
        "        if not query:\n",
        "            return\n",
        "        chat_input.value = \"\"\n",
        "\n",
        "        # Get answer from RAG pipeline\n",
        "        result = qa_chain.invoke({\"query\": query})\n",
        "        answer = result.get(\"result\", \"⚠️ No response generated.\")\n",
        "        chat_history.append((query, answer))\n",
        "        update_chat_display()\n",
        "\n",
        "    # --- Handle Clear button ---\n",
        "    def clear_chat(b):\n",
        "        chat_history.clear()\n",
        "        update_chat_display()\n",
        "\n",
        "    # --- Handle Enter key ---\n",
        "    def on_enter(change):\n",
        "        if change['name'] == 'value' and change['new'].endswith('\\n'):\n",
        "            send_message(None)\n",
        "\n",
        "    # --- Bind actions ---\n",
        "    send_button.on_click(send_message)\n",
        "    clear_button.on_click(clear_chat)\n",
        "    chat_input.observe(on_enter)\n"
      ],
      "metadata": {
        "id": "JteKagGdSd61"
      },
      "execution_count": null,
      "outputs": []
    },
    {
      "cell_type": "code",
      "source": [
        "!pip install streamlit -q\n",
        "!wget -q -O cloudflared.deb https://github.com/cloudflare/cloudflared/releases/latest/download/cloudflared-linux-amd64.deb\n",
        "!dpkg -i cloudflared.deb\n"
      ],
      "metadata": {
        "colab": {
          "base_uri": "https://localhost:8080/"
        },
        "id": "6pAxgoANeU_f",
        "outputId": "dba9923e-7184-4000-f000-0cf62aa05a15"
      },
      "execution_count": 42,
      "outputs": [
        {
          "output_type": "stream",
          "name": "stdout",
          "text": [
            "(Reading database ... \r(Reading database ... 5%\r(Reading database ... 10%\r(Reading database ... 15%\r(Reading database ... 20%\r(Reading database ... 25%\r(Reading database ... 30%\r(Reading database ... 35%\r(Reading database ... 40%\r(Reading database ... 45%\r(Reading database ... 50%\r(Reading database ... 55%\r(Reading database ... 60%\r(Reading database ... 65%\r(Reading database ... 70%\r(Reading database ... 75%\r(Reading database ... 80%\r(Reading database ... 85%\r(Reading database ... 90%\r(Reading database ... 95%\r(Reading database ... 100%\r(Reading database ... 126722 files and directories currently installed.)\n",
            "Preparing to unpack cloudflared.deb ...\n",
            "Unpacking cloudflared (2025.10.0) over (2025.10.0) ...\n",
            "Setting up cloudflared (2025.10.0) ...\n",
            "Processing triggers for man-db (2.10.2-1) ...\n"
          ]
        }
      ]
    },
    {
      "cell_type": "code",
      "source": [
        "%%writefile RAG.py\n",
        "import streamlit as st\n",
        "from langchain.embeddings import OpenAIEmbeddings\n",
        "from langchain.vectorstores import FAISS\n",
        "from langchain.text_splitter import RecursiveCharacterTextSplitter\n",
        "from langchain.chat_models import ChatOpenAI\n",
        "from langchain.chains import ConversationalRetrievalChain\n",
        "from langchain.memory import ConversationBufferMemory\n",
        "from langchain.prompts import PromptTemplate\n",
        "import json, os, time\n",
        "\n",
        "# ------------------------------\n",
        "# PAGE CONFIGURATION\n",
        "# ------------------------------\n",
        "st.set_page_config(page_title=\"🧠 Ready Tensor RAG Assistant\", page_icon=\"⚡\", layout=\"wide\")\n",
        "\n",
        "st.markdown(\"\"\"\n",
        "<style>\n",
        "body {background-color: #050510; color: #EAEAEA;}\n",
        "h1, h4 {color: #8be9fd;}\n",
        "footer {visibility: hidden;}\n",
        "div.stTextInput > div > input {\n",
        "    background-color: #0f0f1f;\n",
        "    color: #fff;\n",
        "    border: 1px solid #333;\n",
        "    border-radius: 10px;\n",
        "    padding: 10px;\n",
        "}\n",
        "div.stButton > button {\n",
        "    background: linear-gradient(90deg, #7b2ff7 0%, #f107a3 100%);\n",
        "    color: white; font-weight: bold; border-radius: 8px;\n",
        "}\n",
        ".chatbox-user {\n",
        "    background: linear-gradient(90deg, #518aed 0%, #272752 100%);\n",
        "    border-radius: 12px; padding: 10px; margin: 8px 0;\n",
        "}\n",
        ".chatbox-bot {\n",
        "    background: linear-gradient(90deg, #43107a 0%, #f107a3 100%);\n",
        "    border-radius: 12px; padding: 10px; margin: 8px 0;\n",
        "    color: #fff;\n",
        "    animation: fadeIn 0.8s ease;\n",
        "}\n",
        "@keyframes fadeIn { from {opacity: 0;} to {opacity: 1;} }\n",
        "</style>\n",
        "\"\"\", unsafe_allow_html=True)\n",
        "\n",
        "# ------------------------------\n",
        "# HEADER\n",
        "# ------------------------------\n",
        "st.title(\"🧠 RAG-Based Conversational Assistant for Ready Tensor Publications\")\n",
        "st.markdown(\"<h4>AAIDC Project 1 | Built by <b>@yogapriya</b></h4>\", unsafe_allow_html=True)\n",
        "st.markdown(\"<hr>\", unsafe_allow_html=True)\n",
        "\n",
        "# ------------------------------\n",
        "# LOAD AND PROCESS DATA\n",
        "# ------------------------------\n",
        "@st.cache_resource\n",
        "def load_data():\n",
        "    with open(\"/content/project_1_publications.json\", \"r\", encoding=\"utf-8\") as f:\n",
        "        data = json.load(f)\n",
        "    texts = [f\"{item['title']} — {item.get('publication_description', '')}\" for item in data]\n",
        "    splitter = RecursiveCharacterTextSplitter(chunk_size=1000, chunk_overlap=150)\n",
        "    docs = splitter.create_documents(texts)\n",
        "    return docs\n",
        "\n",
        "docs = load_data()\n",
        "\n",
        "# ------------------------------\n",
        "# VECTOR STORE AND RETRIEVAL\n",
        "# ------------------------------\n",
        "embeddings = OpenAIEmbeddings(model=\"text-embedding-3-small\")\n",
        "vectorstore = FAISS.from_documents(docs, embeddings)\n",
        "retriever = vectorstore.as_retriever(search_kwargs={\"k\": 3})\n",
        "memory = ConversationBufferMemory(memory_key=\"chat_history\", return_messages=True)\n",
        "\n",
        "prompt_template = PromptTemplate(\n",
        "    input_variables=[\"context\", \"question\"],\n",
        "    template=\"You are a helpful AI assistant trained on Ready Tensor publications.\\nContext:\\n{context}\\n\\nQuestion: {question}\\nAnswer:\"\n",
        ")\n",
        "\n",
        "qa_chain = ConversationalRetrievalChain.from_llm(\n",
        "    llm=ChatOpenAI(model=\"gpt-3.5-turbo\", temperature=0.2),\n",
        "    retriever=retriever,\n",
        "    memory=memory,\n",
        "    combine_docs_chain_kwargs={\"prompt\": prompt_template}\n",
        ")\n",
        "\n",
        "# ------------------------------\n",
        "# CHAT INTERFACE\n",
        "# ------------------------------\n",
        "if \"chat_history\" not in st.session_state:\n",
        "    st.session_state.chat_history = []\n",
        "\n",
        "st.markdown(\"### 💬 Ask your question:\")\n",
        "user_input = st.text_input(\"Type your message here:\")\n",
        "\n",
        "col1, col2 = st.columns(2)\n",
        "with col1:\n",
        "    send = st.button(\"🚀 Send\", use_container_width=True)\n",
        "with col2:\n",
        "    clear = st.button(\"🧹 Clear Chat\", use_container_width=True)\n",
        "\n",
        "# Clear Chat\n",
        "if clear:\n",
        "    st.session_state.chat_history = []\n",
        "    st.success(\"✨ Chat history cleared!\")\n",
        "\n",
        "# Send Message\n",
        "if send and user_input:\n",
        "    with st.spinner(\"Thinking... 🤖\"):\n",
        "        result = qa_chain.invoke({\"question\": user_input})\n",
        "        answer = result.get(\"answer\", result.get(\"result\", \"No response generated.\"))\n",
        "        st.session_state.chat_history.append((user_input, answer))\n",
        "\n",
        "# ------------------------------\n",
        "# DISPLAY CHAT HISTORY\n",
        "# ------------------------------\n",
        "st.markdown(\"### 🧾 Conversation History\")\n",
        "\n",
        "chat_container = st.container()\n",
        "for user_msg, bot_msg in st.session_state.chat_history:\n",
        "    chat_container.markdown(f\"<div class='chatbox-user'><b>You:</b> {user_msg}</div>\", unsafe_allow_html=True)\n",
        "    with chat_container:\n",
        "        placeholder = st.empty()\n",
        "        displayed_text = \"\"\n",
        "        for char in bot_msg:\n",
        "            displayed_text += char\n",
        "            placeholder.markdown(f\"<div class='chatbox-bot'><b>Assistant:</b> {displayed_text}</div>\", unsafe_allow_html=True)\n",
        "            time.sleep(0.01)\n",
        "\n",
        "st.markdown(\"<hr><p style='text-align:center; color:#777;'>⚙️ Ready Tensor | AAIDC Module 1 | RAG Assistant Demo (2025)</p>\", unsafe_allow_html=True)\n"
      ],
      "metadata": {
        "colab": {
          "base_uri": "https://localhost:8080/"
        },
        "id": "oC_L2ezoh6Sk",
        "outputId": "17490e16-d51b-48dd-f120-57dee5b7d519"
      },
      "execution_count": 51,
      "outputs": [
        {
          "output_type": "stream",
          "name": "stdout",
          "text": [
            "Overwriting RAG.py\n"
          ]
        }
      ]
    },
    {
      "cell_type": "code",
      "source": [
        "%%writefile RAG.py\n",
        "import streamlit as st\n",
        "from langchain.embeddings import OpenAIEmbeddings\n",
        "from langchain.vectorstores import FAISS\n",
        "from langchain.text_splitter import RecursiveCharacterTextSplitter\n",
        "from langchain.chat_models import ChatOpenAI\n",
        "from langchain.chains import ConversationalRetrievalChain\n",
        "from langchain.memory import ConversationBufferMemory\n",
        "from langchain.prompts import PromptTemplate\n",
        "import json\n",
        "import os\n",
        "\n",
        "# ------------------------------\n",
        "# PAGE SETUP\n",
        "# ------------------------------\n",
        "st.set_page_config(page_title=\"RAG Chat Assistant\", page_icon=\"🧠\", layout=\"wide\")\n",
        "st.title(\"🧠 RAG-Based Conversational Assistant for Ready Tensor Publications\")\n",
        "\n",
        "\n",
        "# ------------------------------\n",
        "# LOAD DATA FUNCTION\n",
        "# ------------------------------\n",
        "@st.cache_resource\n",
        "def load_data():\n",
        "    with open(\"/content/project_1_publications.json\", \"r\", encoding=\"utf-8\") as f:\n",
        "        data = json.load(f)\n",
        "    texts = [f\"{item['title']} — {item.get('abstract', '')}\" for item in data]\n",
        "    splitter = RecursiveCharacterTextSplitter(chunk_size=1000, chunk_overlap=150)\n",
        "    docs = splitter.create_documents(texts)\n",
        "    return docs\n",
        "\n",
        "docs = load_data()\n",
        "\n",
        "# ------------------------------\n",
        "# CREATE VECTOR STORE\n",
        "# ------------------------------\n",
        "embeddings = OpenAIEmbeddings(model=\"text-embedding-3-small\")\n",
        "vectorstore = FAISS.from_documents(docs, embeddings)\n",
        "\n",
        "memory = ConversationBufferMemory(memory_key=\"chat_history\", return_messages=True)\n",
        "retriever = vectorstore.as_retriever(search_kwargs={\"k\": 3})\n",
        "\n",
        "prompt_template = PromptTemplate(\n",
        "    input_variables=[\"context\", \"question\"],\n",
        "    template=\"You are a helpful AI assistant specialized in Ready Tensor publications.\\nContext:\\n{context}\\n\\nQuestion: {question}\\nAnswer:\"\n",
        ")\n",
        "\n",
        "qa_chain = ConversationalRetrievalChain.from_llm(\n",
        "    llm=ChatOpenAI(model=\"gpt-3.5-turbo\", temperature=0.2),\n",
        "    retriever=retriever,\n",
        "    memory=memory,\n",
        "    combine_docs_chain_kwargs={\"prompt\": prompt_template}\n",
        ")\n",
        "\n",
        "# ------------------------------\n",
        "# CHAT INTERFACE\n",
        "# ------------------------------\n",
        "if \"chat_history\" not in st.session_state:\n",
        "    st.session_state.chat_history = []\n",
        "\n",
        "st.markdown(\"### 💬 Ask your question below:\")\n",
        "user_input = st.text_input(\"Type your message here:\")\n",
        "\n",
        "col1, col2 = st.columns([1, 1])\n",
        "with col1:\n",
        "    send = st.button(\"Send\", use_container_width=True)\n",
        "with col2:\n",
        "    clear = st.button(\"Clear Chat\", use_container_width=True)\n",
        "\n",
        "# Handle Clear button\n",
        "if clear:\n",
        "    st.session_state.chat_history = []\n",
        "    st.success(\"Chat cleared!\")\n",
        "\n",
        "# Handle Send button\n",
        "if send and user_input:\n",
        "    result = qa_chain.invoke({\"question\": user_input})\n",
        "    answer = result[\"answer\"] if \"answer\" in result else result[\"result\"]\n",
        "    st.session_state.chat_history.append((user_input, answer))\n",
        "\n",
        "# ------------------------------\n",
        "# DISPLAY CHAT HISTORY\n",
        "# ------------------------------\n",
        "st.markdown(\"### 🧾 Conversation History\")\n",
        "for user_msg, bot_msg in st.session_state.chat_history:\n",
        "    st.markdown(f\"\"\"\n",
        "    <div style=\"background-color:#D0E6FF; padding:8px; border-radius:10px; margin:5px 0;\">\n",
        "        <b>You:</b> {user_msg}\n",
        "    </div>\n",
        "    <div style=\"background-color:#E6FFE6; padding:8px; border-radius:10px; margin:5px 0;\">\n",
        "        <b>Assistant:</b> {bot_msg}\n",
        "    </div>\n",
        "    \"\"\", unsafe_allow_html=True)\n",
        "    st.markdown(\"#### AAIDC Project 1 | Built by **@yogapriya**\")\n"
      ],
      "metadata": {
        "colab": {
          "base_uri": "https://localhost:8080/"
        },
        "id": "dX6cB3H_jh7E",
        "outputId": "c86b69e2-f372-4aa3-d7ea-f078e6df6ff3"
      },
      "execution_count": 45,
      "outputs": [
        {
          "output_type": "stream",
          "name": "stdout",
          "text": [
            "Overwriting RAG.py\n"
          ]
        }
      ]
    },
    {
      "cell_type": "code",
      "source": [
        "import threading, time, re, os\n",
        "\n",
        "# Kill any old runs\n",
        "os.system(\"pkill streamlit\")\n",
        "os.system(\"pkill cloudflared\")\n",
        "time.sleep(2)\n",
        "\n",
        "# 1️⃣ Launch Streamlit quietly\n",
        "def run_streamlit():\n",
        "    os.system(\"streamlit run /content/RAG.py --server.port 8501 --server.headless true > /content/streamlit.log 2>&1\")\n",
        "\n",
        "thread = threading.Thread(target=run_streamlit)\n",
        "thread.start()\n",
        "time.sleep(8)\n",
        "\n",
        "# 2️⃣ Launch Cloudflare tunnel\n",
        "os.system('cloudflared tunnel --url http://localhost:8501 --no-autoupdate > /content/cf.log 2>&1 &')\n",
        "time.sleep(10)\n",
        "\n",
        "# 3️⃣ Extract the public URL\n",
        "with open(\"/content/cf.log\") as f:\n",
        "    log = f.read()\n",
        "\n",
        "url_match = re.search(r\"https://[-0-9a-z]+\\.trycloudflare\\.com\", log)\n",
        "if url_match:\n",
        "    print(\"✅ Your Streamlit app is live! Click below:\")\n",
        "    print(url_match.group(0))\n",
        "else:\n",
        "    print(\"⚠️ Could not find the public URL yet. Run this cell again after 10 seconds.\")\n"
      ],
      "metadata": {
        "colab": {
          "base_uri": "https://localhost:8080/"
        },
        "id": "HtGwNTV6gny8",
        "outputId": "544ec489-610b-43fd-e069-a1af4889e7f0"
      },
      "execution_count": 52,
      "outputs": [
        {
          "output_type": "stream",
          "name": "stdout",
          "text": [
            "✅ Your Streamlit app is live! Click below:\n",
            "https://cable-efficiency-counter-million.trycloudflare.com\n"
          ]
        }
      ]
    },
    {
      "cell_type": "code",
      "source": [
        "import threading, time, os, re\n",
        "\n",
        "# ✅ Step 1: Start Streamlit app in background\n",
        "def run_streamlit():\n",
        "    os.system(\"streamlit run/content/RAG.py --server.port 8501 > /content/streamlit.log 2>&1\")\n",
        "\n",
        "thread = threading.Thread(target=run_streamlit)\n",
        "thread.start()\n",
        "\n",
        "time.sleep(5)\n",
        "\n",
        "# ✅ Step 2: Start Cloudflare Tunnel in background\n",
        "os.system('cloudflared tunnel --url http://localhost:8501 --no-autoupdate > /content/cf.log 2>&1 &')\n",
        "\n",
        "time.sleep(8)\n",
        "\n",
        "# ✅ Step 3: Extract the public URL from Cloudflare logs\n",
        "with open(\"/content/cf.log\", \"r\") as f:\n",
        "    log_data = f.read()\n",
        "\n",
        "url_match = re.search(r\"https://[-0-9a-z]+\\.trycloudflare\\.com\", log_data)\n",
        "if url_match:\n",
        "    public_url = url_match.group(0)\n",
        "    print(\"✅ Your Streamlit app is live! Click below:\\n\")\n",
        "    print(public_url)\n",
        "else:\n",
        "    print(\"⚠️ Could not detect public URL yet. Try re-running this cell after 10 seconds.\")\n"
      ],
      "metadata": {
        "colab": {
          "base_uri": "https://localhost:8080/"
        },
        "id": "5tBZ9BHnk_jN",
        "outputId": "ff53c3fc-0a59-44d5-e656-88203ec83cef"
      },
      "execution_count": 44,
      "outputs": [
        {
          "output_type": "stream",
          "name": "stdout",
          "text": [
            "✅ Your Streamlit app is live! Click below:\n",
            "\n",
            "https://reverse-promotes-array-previously.trycloudflare.com\n"
          ]
        }
      ]
    },
    {
      "cell_type": "code",
      "source": [
        "!jupyter nbconvert --ClearMetadataPreprocessor.enabled=True \\\n",
        "                   --to notebook \\\n",
        "                   --output cleaned_notebook.ipynb \\\n",
        "                   /content/RAG.ipynb\n"
      ],
      "metadata": {
        "colab": {
          "base_uri": "https://localhost:8080/"
        },
        "id": "JN-TLY8OgjY7",
        "outputId": "4718d7cf-fcae-40f6-dc51-d5e14556aaac"
      },
      "execution_count": 54,
      "outputs": [
        {
          "output_type": "stream",
          "name": "stdout",
          "text": [
            "[NbConvertApp] Converting notebook /content/RAG.ipynb to notebook\n",
            "[NbConvertApp] Writing 30862 bytes to /content/cleaned_notebook.ipynb\n"
          ]
        }
      ]
    }
  ]
}